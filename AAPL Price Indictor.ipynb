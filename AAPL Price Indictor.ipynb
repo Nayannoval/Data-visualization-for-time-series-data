{
 "cells": [
  {
   "cell_type": "code",
   "execution_count": 21,
   "id": "a2948bc7-dc47-47c8-ad53-86bdd92465bb",
   "metadata": {},
   "outputs": [],
   "source": [
    "import yfinance as yf\n",
    "import pandas as pd\n",
    "import numpy as np\n",
    "import matplotlib.pyplot as plt"
   ]
  },
  {
   "cell_type": "code",
   "execution_count": 23,
   "id": "3932a2c0-24dd-4253-8aef-10797ac17768",
   "metadata": {},
   "outputs": [],
   "source": [
    "aapl = yf.Ticker('AAPL')"
   ]
  },
  {
   "cell_type": "code",
   "execution_count": 25,
   "id": "d1ec37b0-758f-4ab5-bf44-c7db80069003",
   "metadata": {},
   "outputs": [],
   "source": [
    "aapl=aapl.history(period='max')"
   ]
  },
  {
   "cell_type": "code",
   "execution_count": 27,
   "id": "06484ad7-e438-48c8-b676-7aec83bd4f04",
   "metadata": {},
   "outputs": [
    {
     "data": {
      "text/html": [
       "<div>\n",
       "<style scoped>\n",
       "    .dataframe tbody tr th:only-of-type {\n",
       "        vertical-align: middle;\n",
       "    }\n",
       "\n",
       "    .dataframe tbody tr th {\n",
       "        vertical-align: top;\n",
       "    }\n",
       "\n",
       "    .dataframe thead th {\n",
       "        text-align: right;\n",
       "    }\n",
       "</style>\n",
       "<table border=\"1\" class=\"dataframe\">\n",
       "  <thead>\n",
       "    <tr style=\"text-align: right;\">\n",
       "      <th></th>\n",
       "      <th>Open</th>\n",
       "      <th>High</th>\n",
       "      <th>Low</th>\n",
       "      <th>Close</th>\n",
       "      <th>Volume</th>\n",
       "      <th>Dividends</th>\n",
       "      <th>Stock Splits</th>\n",
       "    </tr>\n",
       "    <tr>\n",
       "      <th>Date</th>\n",
       "      <th></th>\n",
       "      <th></th>\n",
       "      <th></th>\n",
       "      <th></th>\n",
       "      <th></th>\n",
       "      <th></th>\n",
       "      <th></th>\n",
       "    </tr>\n",
       "  </thead>\n",
       "  <tbody>\n",
       "    <tr>\n",
       "      <th>1980-12-12 00:00:00-05:00</th>\n",
       "      <td>0.099058</td>\n",
       "      <td>0.099488</td>\n",
       "      <td>0.099058</td>\n",
       "      <td>0.099058</td>\n",
       "      <td>469033600</td>\n",
       "      <td>0.0</td>\n",
       "      <td>0.0</td>\n",
       "    </tr>\n",
       "    <tr>\n",
       "      <th>1980-12-15 00:00:00-05:00</th>\n",
       "      <td>0.094320</td>\n",
       "      <td>0.094320</td>\n",
       "      <td>0.093890</td>\n",
       "      <td>0.093890</td>\n",
       "      <td>175884800</td>\n",
       "      <td>0.0</td>\n",
       "      <td>0.0</td>\n",
       "    </tr>\n",
       "    <tr>\n",
       "      <th>1980-12-16 00:00:00-05:00</th>\n",
       "      <td>0.087429</td>\n",
       "      <td>0.087429</td>\n",
       "      <td>0.086999</td>\n",
       "      <td>0.086999</td>\n",
       "      <td>105728000</td>\n",
       "      <td>0.0</td>\n",
       "      <td>0.0</td>\n",
       "    </tr>\n",
       "    <tr>\n",
       "      <th>1980-12-17 00:00:00-05:00</th>\n",
       "      <td>0.089152</td>\n",
       "      <td>0.089582</td>\n",
       "      <td>0.089152</td>\n",
       "      <td>0.089152</td>\n",
       "      <td>86441600</td>\n",
       "      <td>0.0</td>\n",
       "      <td>0.0</td>\n",
       "    </tr>\n",
       "    <tr>\n",
       "      <th>1980-12-18 00:00:00-05:00</th>\n",
       "      <td>0.091737</td>\n",
       "      <td>0.092167</td>\n",
       "      <td>0.091737</td>\n",
       "      <td>0.091737</td>\n",
       "      <td>73449600</td>\n",
       "      <td>0.0</td>\n",
       "      <td>0.0</td>\n",
       "    </tr>\n",
       "    <tr>\n",
       "      <th>...</th>\n",
       "      <td>...</td>\n",
       "      <td>...</td>\n",
       "      <td>...</td>\n",
       "      <td>...</td>\n",
       "      <td>...</td>\n",
       "      <td>...</td>\n",
       "      <td>...</td>\n",
       "    </tr>\n",
       "    <tr>\n",
       "      <th>2024-06-20 00:00:00-04:00</th>\n",
       "      <td>213.929993</td>\n",
       "      <td>214.240005</td>\n",
       "      <td>208.850006</td>\n",
       "      <td>209.679993</td>\n",
       "      <td>86172500</td>\n",
       "      <td>0.0</td>\n",
       "      <td>0.0</td>\n",
       "    </tr>\n",
       "    <tr>\n",
       "      <th>2024-06-21 00:00:00-04:00</th>\n",
       "      <td>210.389999</td>\n",
       "      <td>211.889999</td>\n",
       "      <td>207.110001</td>\n",
       "      <td>207.490005</td>\n",
       "      <td>246421400</td>\n",
       "      <td>0.0</td>\n",
       "      <td>0.0</td>\n",
       "    </tr>\n",
       "    <tr>\n",
       "      <th>2024-06-24 00:00:00-04:00</th>\n",
       "      <td>207.720001</td>\n",
       "      <td>212.699997</td>\n",
       "      <td>206.589996</td>\n",
       "      <td>208.139999</td>\n",
       "      <td>80727000</td>\n",
       "      <td>0.0</td>\n",
       "      <td>0.0</td>\n",
       "    </tr>\n",
       "    <tr>\n",
       "      <th>2024-06-25 00:00:00-04:00</th>\n",
       "      <td>209.149994</td>\n",
       "      <td>211.380005</td>\n",
       "      <td>208.610001</td>\n",
       "      <td>209.070007</td>\n",
       "      <td>56713900</td>\n",
       "      <td>0.0</td>\n",
       "      <td>0.0</td>\n",
       "    </tr>\n",
       "    <tr>\n",
       "      <th>2024-06-26 00:00:00-04:00</th>\n",
       "      <td>211.500000</td>\n",
       "      <td>214.860001</td>\n",
       "      <td>210.639999</td>\n",
       "      <td>213.250000</td>\n",
       "      <td>64292900</td>\n",
       "      <td>0.0</td>\n",
       "      <td>0.0</td>\n",
       "    </tr>\n",
       "  </tbody>\n",
       "</table>\n",
       "<p>10975 rows × 7 columns</p>\n",
       "</div>"
      ],
      "text/plain": [
       "                                 Open        High         Low       Close  \\\n",
       "Date                                                                        \n",
       "1980-12-12 00:00:00-05:00    0.099058    0.099488    0.099058    0.099058   \n",
       "1980-12-15 00:00:00-05:00    0.094320    0.094320    0.093890    0.093890   \n",
       "1980-12-16 00:00:00-05:00    0.087429    0.087429    0.086999    0.086999   \n",
       "1980-12-17 00:00:00-05:00    0.089152    0.089582    0.089152    0.089152   \n",
       "1980-12-18 00:00:00-05:00    0.091737    0.092167    0.091737    0.091737   \n",
       "...                               ...         ...         ...         ...   \n",
       "2024-06-20 00:00:00-04:00  213.929993  214.240005  208.850006  209.679993   \n",
       "2024-06-21 00:00:00-04:00  210.389999  211.889999  207.110001  207.490005   \n",
       "2024-06-24 00:00:00-04:00  207.720001  212.699997  206.589996  208.139999   \n",
       "2024-06-25 00:00:00-04:00  209.149994  211.380005  208.610001  209.070007   \n",
       "2024-06-26 00:00:00-04:00  211.500000  214.860001  210.639999  213.250000   \n",
       "\n",
       "                              Volume  Dividends  Stock Splits  \n",
       "Date                                                           \n",
       "1980-12-12 00:00:00-05:00  469033600        0.0           0.0  \n",
       "1980-12-15 00:00:00-05:00  175884800        0.0           0.0  \n",
       "1980-12-16 00:00:00-05:00  105728000        0.0           0.0  \n",
       "1980-12-17 00:00:00-05:00   86441600        0.0           0.0  \n",
       "1980-12-18 00:00:00-05:00   73449600        0.0           0.0  \n",
       "...                              ...        ...           ...  \n",
       "2024-06-20 00:00:00-04:00   86172500        0.0           0.0  \n",
       "2024-06-21 00:00:00-04:00  246421400        0.0           0.0  \n",
       "2024-06-24 00:00:00-04:00   80727000        0.0           0.0  \n",
       "2024-06-25 00:00:00-04:00   56713900        0.0           0.0  \n",
       "2024-06-26 00:00:00-04:00   64292900        0.0           0.0  \n",
       "\n",
       "[10975 rows x 7 columns]"
      ]
     },
     "execution_count": 27,
     "metadata": {},
     "output_type": "execute_result"
    }
   ],
   "source": [
    "aapl"
   ]
  },
  {
   "cell_type": "code",
   "execution_count": 29,
   "id": "88bfc3bd-8247-47b8-b999-c2da93e095aa",
   "metadata": {},
   "outputs": [
    {
     "data": {
      "text/plain": [
       "DatetimeIndex(['1980-12-12 00:00:00-05:00', '1980-12-15 00:00:00-05:00',\n",
       "               '1980-12-16 00:00:00-05:00', '1980-12-17 00:00:00-05:00',\n",
       "               '1980-12-18 00:00:00-05:00', '1980-12-19 00:00:00-05:00',\n",
       "               '1980-12-22 00:00:00-05:00', '1980-12-23 00:00:00-05:00',\n",
       "               '1980-12-24 00:00:00-05:00', '1980-12-26 00:00:00-05:00',\n",
       "               ...\n",
       "               '2024-06-12 00:00:00-04:00', '2024-06-13 00:00:00-04:00',\n",
       "               '2024-06-14 00:00:00-04:00', '2024-06-17 00:00:00-04:00',\n",
       "               '2024-06-18 00:00:00-04:00', '2024-06-20 00:00:00-04:00',\n",
       "               '2024-06-21 00:00:00-04:00', '2024-06-24 00:00:00-04:00',\n",
       "               '2024-06-25 00:00:00-04:00', '2024-06-26 00:00:00-04:00'],\n",
       "              dtype='datetime64[ns, America/New_York]', name='Date', length=10975, freq=None)"
      ]
     },
     "execution_count": 29,
     "metadata": {},
     "output_type": "execute_result"
    }
   ],
   "source": [
    "aapl.index"
   ]
  },
  {
   "cell_type": "code",
   "execution_count": 33,
   "id": "d3c43eef-4f3c-439d-8767-5005ddc87a83",
   "metadata": {},
   "outputs": [
    {
     "data": {
      "image/png": "[encoded data removed]",
      "text/plain": [
       "<Figure size 640x480 with 1 Axes>"
      ]
     },
     "metadata": {},
     "output_type": "display_data"
    }
   ],
   "source": [
    "aapl.plot.line(y='Close',use_index=True)\n",
    "plt.show()"
   ]
  },
  {
   "cell_type": "code",
   "execution_count": 53,
   "id": "93622a4e-5225-40dd-88dc-4806eabb953d",
   "metadata": {},
   "outputs": [
    {
     "data": {
      "text/plain": [
       "Index(['Open', 'High', 'Low', 'Close', 'Volume', 'Stock Splits'], dtype='object')"
      ]
     },
     "execution_count": 53,
     "metadata": {},
     "output_type": "execute_result"
    }
   ],
   "source": [
    "aapl.columns"
   ]
  },
  {
   "cell_type": "code",
   "execution_count": 55,
   "id": "411e5a86-ebf2-407c-805d-3fc31876eb27",
   "metadata": {},
   "outputs": [],
   "source": [
    "del aapl['Stock Splits']"
   ]
  },
  {
   "cell_type": "code",
   "execution_count": 57,
   "id": "5ff9fe5f-069f-4b02-a40a-c077407342e6",
   "metadata": {},
   "outputs": [
    {
     "data": {
      "text/plain": [
       "Index(['Open', 'High', 'Low', 'Close', 'Volume'], dtype='object')"
      ]
     },
     "execution_count": 57,
     "metadata": {},
     "output_type": "execute_result"
    }
   ],
   "source": [
    "aapl.columns"
   ]
  },
  {
   "cell_type": "code",
   "execution_count": 59,
   "id": "72232e3c-3155-42bc-be6f-2c1eb25cc689",
   "metadata": {},
   "outputs": [
    {
     "data": {
      "text/plain": [
       "Open      float64\n",
       "High      float64\n",
       "Low       float64\n",
       "Close     float64\n",
       "Volume      int64\n",
       "dtype: object"
      ]
     },
     "execution_count": 59,
     "metadata": {},
     "output_type": "execute_result"
    }
   ],
   "source": [
    "aapl.dtypes"
   ]
  },
  {
   "cell_type": "code",
   "execution_count": 61,
   "id": "5abb8dd7-18b4-49b3-ba10-8eea20792300",
   "metadata": {},
   "outputs": [],
   "source": [
    "# Target - Predicting if the stock will go up and down"
   ]
  },
  {
   "cell_type": "code",
   "execution_count": 65,
   "id": "5747385c-fb01-4112-94a0-4aba669d1d74",
   "metadata": {},
   "outputs": [
    {
     "data": {
      "text/html": [
       "<div>\n",
       "<style scoped>\n",
       "    .dataframe tbody tr th:only-of-type {\n",
       "        vertical-align: middle;\n",
       "    }\n",
       "\n",
       "    .dataframe tbody tr th {\n",
       "        vertical-align: top;\n",
       "    }\n",
       "\n",
       "    .dataframe thead th {\n",
       "        text-align: right;\n",
       "    }\n",
       "</style>\n",
       "<table border=\"1\" class=\"dataframe\">\n",
       "  <thead>\n",
       "    <tr style=\"text-align: right;\">\n",
       "      <th></th>\n",
       "      <th>Open</th>\n",
       "      <th>High</th>\n",
       "      <th>Low</th>\n",
       "      <th>Close</th>\n",
       "      <th>Volume</th>\n",
       "      <th>Tomorrow</th>\n",
       "    </tr>\n",
       "    <tr>\n",
       "      <th>Date</th>\n",
       "      <th></th>\n",
       "      <th></th>\n",
       "      <th></th>\n",
       "      <th></th>\n",
       "      <th></th>\n",
       "      <th></th>\n",
       "    </tr>\n",
       "  </thead>\n",
       "  <tbody>\n",
       "    <tr>\n",
       "      <th>1980-12-12 00:00:00-05:00</th>\n",
       "      <td>0.099058</td>\n",
       "      <td>0.099488</td>\n",
       "      <td>0.099058</td>\n",
       "      <td>0.099058</td>\n",
       "      <td>469033600</td>\n",
       "      <td>0.093890</td>\n",
       "    </tr>\n",
       "    <tr>\n",
       "      <th>1980-12-15 00:00:00-05:00</th>\n",
       "      <td>0.094320</td>\n",
       "      <td>0.094320</td>\n",
       "      <td>0.093890</td>\n",
       "      <td>0.093890</td>\n",
       "      <td>175884800</td>\n",
       "      <td>0.086999</td>\n",
       "    </tr>\n",
       "    <tr>\n",
       "      <th>1980-12-16 00:00:00-05:00</th>\n",
       "      <td>0.087429</td>\n",
       "      <td>0.087429</td>\n",
       "      <td>0.086999</td>\n",
       "      <td>0.086999</td>\n",
       "      <td>105728000</td>\n",
       "      <td>0.089152</td>\n",
       "    </tr>\n",
       "    <tr>\n",
       "      <th>1980-12-17 00:00:00-05:00</th>\n",
       "      <td>0.089152</td>\n",
       "      <td>0.089582</td>\n",
       "      <td>0.089152</td>\n",
       "      <td>0.089152</td>\n",
       "      <td>86441600</td>\n",
       "      <td>0.091737</td>\n",
       "    </tr>\n",
       "    <tr>\n",
       "      <th>1980-12-18 00:00:00-05:00</th>\n",
       "      <td>0.091737</td>\n",
       "      <td>0.092167</td>\n",
       "      <td>0.091737</td>\n",
       "      <td>0.091737</td>\n",
       "      <td>73449600</td>\n",
       "      <td>0.097335</td>\n",
       "    </tr>\n",
       "    <tr>\n",
       "      <th>...</th>\n",
       "      <td>...</td>\n",
       "      <td>...</td>\n",
       "      <td>...</td>\n",
       "      <td>...</td>\n",
       "      <td>...</td>\n",
       "      <td>...</td>\n",
       "    </tr>\n",
       "    <tr>\n",
       "      <th>2024-06-20 00:00:00-04:00</th>\n",
       "      <td>213.929993</td>\n",
       "      <td>214.240005</td>\n",
       "      <td>208.850006</td>\n",
       "      <td>209.679993</td>\n",
       "      <td>86172500</td>\n",
       "      <td>207.490005</td>\n",
       "    </tr>\n",
       "    <tr>\n",
       "      <th>2024-06-21 00:00:00-04:00</th>\n",
       "      <td>210.389999</td>\n",
       "      <td>211.889999</td>\n",
       "      <td>207.110001</td>\n",
       "      <td>207.490005</td>\n",
       "      <td>246421400</td>\n",
       "      <td>208.139999</td>\n",
       "    </tr>\n",
       "    <tr>\n",
       "      <th>2024-06-24 00:00:00-04:00</th>\n",
       "      <td>207.720001</td>\n",
       "      <td>212.699997</td>\n",
       "      <td>206.589996</td>\n",
       "      <td>208.139999</td>\n",
       "      <td>80727000</td>\n",
       "      <td>209.070007</td>\n",
       "    </tr>\n",
       "    <tr>\n",
       "      <th>2024-06-25 00:00:00-04:00</th>\n",
       "      <td>209.149994</td>\n",
       "      <td>211.380005</td>\n",
       "      <td>208.610001</td>\n",
       "      <td>209.070007</td>\n",
       "      <td>56713900</td>\n",
       "      <td>213.250000</td>\n",
       "    </tr>\n",
       "    <tr>\n",
       "      <th>2024-06-26 00:00:00-04:00</th>\n",
       "      <td>211.500000</td>\n",
       "      <td>214.860001</td>\n",
       "      <td>210.639999</td>\n",
       "      <td>213.250000</td>\n",
       "      <td>64292900</td>\n",
       "      <td>NaN</td>\n",
       "    </tr>\n",
       "  </tbody>\n",
       "</table>\n",
       "<p>10975 rows × 6 columns</p>\n",
       "</div>"
      ],
      "text/plain": [
       "                                 Open        High         Low       Close  \\\n",
       "Date                                                                        \n",
       "1980-12-12 00:00:00-05:00    0.099058    0.099488    0.099058    0.099058   \n",
       "1980-12-15 00:00:00-05:00    0.094320    0.094320    0.093890    0.093890   \n",
       "1980-12-16 00:00:00-05:00    0.087429    0.087429    0.086999    0.086999   \n",
       "1980-12-17 00:00:00-05:00    0.089152    0.089582    0.089152    0.089152   \n",
       "1980-12-18 00:00:00-05:00    0.091737    0.092167    0.091737    0.091737   \n",
       "...                               ...         ...         ...         ...   \n",
       "2024-06-20 00:00:00-04:00  213.929993  214.240005  208.850006  209.679993   \n",
       "2024-06-21 00:00:00-04:00  210.389999  211.889999  207.110001  207.490005   \n",
       "2024-06-24 00:00:00-04:00  207.720001  212.699997  206.589996  208.139999   \n",
       "2024-06-25 00:00:00-04:00  209.149994  211.380005  208.610001  209.070007   \n",
       "2024-06-26 00:00:00-04:00  211.500000  214.860001  210.639999  213.250000   \n",
       "\n",
       "                              Volume    Tomorrow  \n",
       "Date                                              \n",
       "1980-12-12 00:00:00-05:00  469033600    0.093890  \n",
       "1980-12-15 00:00:00-05:00  175884800    0.086999  \n",
       "1980-12-16 00:00:00-05:00  105728000    0.089152  \n",
       "1980-12-17 00:00:00-05:00   86441600    0.091737  \n",
       "1980-12-18 00:00:00-05:00   73449600    0.097335  \n",
       "...                              ...         ...  \n",
       "2024-06-20 00:00:00-04:00   86172500  207.490005  \n",
       "2024-06-21 00:00:00-04:00  246421400  208.139999  \n",
       "2024-06-24 00:00:00-04:00   80727000  209.070007  \n",
       "2024-06-25 00:00:00-04:00   56713900  213.250000  \n",
       "2024-06-26 00:00:00-04:00   64292900         NaN  \n",
       "\n",
       "[10975 rows x 6 columns]"
      ]
     },
     "execution_count": 65,
     "metadata": {},
     "output_type": "execute_result"
    }
   ],
   "source": [
    "aapl['Tomorrow']=aapl['Close'].shift(-1)\n",
    "aapl"
   ]
  }
 ],
 "metadata": {
  "kernelspec": {
   "display_name": "Python 3 (ipykernel)",
   "language": "python",
   "name": "python3"
  },
  "language_info": {
   "codemirror_mode": {
    "name": "ipython",
    "version": 3
   },
   "file_extension": ".py",
   "mimetype": "text/x-python",
   "name": "python",
   "nbconvert_exporter": "python",
   "pygments_lexer": "ipython3",
   "version": "3.11.7"
  }
 },
 "nbformat": 4,
 "nbformat_minor": 5
}
